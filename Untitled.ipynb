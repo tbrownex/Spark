{
 "cells": [
  {
   "cell_type": "code",
   "execution_count": 26,
   "metadata": {},
   "outputs": [
    {
     "data": {
      "text/plain": [
       "defined class MyRow\n",
       "data = List(MyRow(8.0,bat), MyRow(NaN,mouse), MyRow(12.0,cat))\n"
      ]
     },
     "metadata": {},
     "output_type": "display_data"
    },
    {
     "data": {
      "text/plain": [
       "List(MyRow(8.0,bat), MyRow(NaN,mouse), MyRow(12.0,cat))"
      ]
     },
     "execution_count": 26,
     "metadata": {},
     "output_type": "execute_result"
    }
   ],
   "source": [
    "case class MyRow(x: Double, y:String)\n",
    "val data = Seq(MyRow(8.0, \"bat\"),MyRow(Double.NaN, \"mouse\"),MyRow(12.0, \"cat\"))"
   ]
  },
  {
   "cell_type": "code",
   "execution_count": 27,
   "metadata": {},
   "outputs": [
    {
     "data": {
      "text/plain": [
       "df = [number: double, word: string]\n"
      ]
     },
     "metadata": {},
     "output_type": "display_data"
    },
    {
     "data": {
      "text/plain": [
       "[number: double, word: string]"
      ]
     },
     "execution_count": 27,
     "metadata": {},
     "output_type": "execute_result"
    }
   ],
   "source": [
    "val df = data.toDF(\"number\", \"word\")"
   ]
  },
  {
   "cell_type": "code",
   "execution_count": 28,
   "metadata": {},
   "outputs": [
    {
     "name": "stdout",
     "output_type": "stream",
     "text": [
      "+------+-----+\n",
      "|number| word|\n",
      "+------+-----+\n",
      "|   8.0|  bat|\n",
      "|   NaN|mouse|\n",
      "|  12.0|  cat|\n",
      "+------+-----+\n",
      "\n"
     ]
    }
   ],
   "source": [
    "df.show"
   ]
  },
  {
   "cell_type": "code",
   "execution_count": 29,
   "metadata": {},
   "outputs": [
    {
     "data": {
      "text/plain": [
       "imputeMeans: (df: org.apache.spark.sql.DataFrame, feet: Array[String])(org.apache.spark.sql.DataFrame, Array[String])\n"
      ]
     },
     "metadata": {},
     "output_type": "display_data"
    }
   ],
   "source": [
    "import org.apache.spark.ml.feature._\n",
    "\n",
    "def imputeMeans(df: org.apache.spark.sql.DataFrame, feet: Array[String]):\n",
    "    (org.apache.spark.sql.DataFrame, Array[String]) = {\n",
    "        val outcols = feet.map(c => s\"${c}_imputed\")\n",
    "        val imputer = new Imputer().setInputCols(feet).setOutputCols(outcols).setStrategy(\"mean\")\n",
    "        val resdf = imputer.fit(df).transform(df)\n",
    "        (resdf, outcols)\n",
    "}"
   ]
  },
  {
   "cell_type": "code",
   "execution_count": 30,
   "metadata": {},
   "outputs": [
    {
     "data": {
      "text/plain": [
       "arr = Array(number)\n"
      ]
     },
     "metadata": {},
     "output_type": "display_data"
    },
    {
     "data": {
      "text/plain": [
       "Array(number)"
      ]
     },
     "execution_count": 30,
     "metadata": {},
     "output_type": "execute_result"
    }
   ],
   "source": [
    "val arr = Array(\"number\")"
   ]
  },
  {
   "cell_type": "code",
   "execution_count": 36,
   "metadata": {},
   "outputs": [
    {
     "data": {
      "text/plain": [
       "a = [number: double, word: string ... 1 more field]\n",
       "b = Array(number_imputed)\n"
      ]
     },
     "metadata": {},
     "output_type": "display_data"
    },
    {
     "data": {
      "text/plain": [
       "Array(number_imputed)"
      ]
     },
     "execution_count": 36,
     "metadata": {},
     "output_type": "execute_result"
    }
   ],
   "source": [
    "val (a,b) = imputeMeans(df,arr)"
   ]
  },
  {
   "cell_type": "code",
   "execution_count": 41,
   "metadata": {},
   "outputs": [
    {
     "name": "stdout",
     "output_type": "stream",
     "text": [
      "+------+-----+--------------+\n",
      "|number| word|number_imputed|\n",
      "+------+-----+--------------+\n",
      "|   8.0|  bat|           8.0|\n",
      "|   NaN|mouse|          10.0|\n",
      "|  12.0|  cat|          12.0|\n",
      "+------+-----+--------------+\n",
      "\n"
     ]
    }
   ],
   "source": [
    "a.show"
   ]
  },
  {
   "cell_type": "code",
   "execution_count": null,
   "metadata": {},
   "outputs": [],
   "source": []
  }
 ],
 "metadata": {
  "kernelspec": {
   "display_name": "Apache Toree - Scala",
   "language": "scala",
   "name": "apache_toree_scala"
  },
  "language_info": {
   "codemirror_mode": "text/x-scala",
   "file_extension": ".scala",
   "mimetype": "text/x-scala",
   "name": "scala",
   "pygments_lexer": "scala",
   "version": "2.11.12"
  }
 },
 "nbformat": 4,
 "nbformat_minor": 2
}
