{
 "cells": [
  {
   "cell_type": "markdown",
   "metadata": {},
   "source": [
    "##### My \"moons\" file had been split in two (Train and Test). This will merge them and add a header. "
   ]
  },
  {
   "cell_type": "markdown",
   "metadata": {},
   "source": [
    "##### The output is in \"part_0001...\" format like Hadoop"
   ]
  },
  {
   "cell_type": "code",
   "execution_count": 1,
   "metadata": {},
   "outputs": [
    {
     "data": {
      "text/plain": [
       "dataLoc = /home/ubuntu/data/moons/\n"
      ]
     },
     "metadata": {},
     "output_type": "display_data"
    },
    {
     "data": {
      "text/plain": [
       "/home/ubuntu/data/moons/"
      ]
     },
     "execution_count": 1,
     "metadata": {},
     "output_type": "execute_result"
    }
   ],
   "source": [
    "import org.apache.spark.sql.DataFrame\n",
    "\n",
    "val dataLoc = \"/home/ubuntu/data/moons/\""
   ]
  },
  {
   "cell_type": "code",
   "execution_count": 2,
   "metadata": {},
   "outputs": [
    {
     "data": {
      "text/plain": [
       "renameCols: (df: org.apache.spark.sql.DataFrame)org.apache.spark.sql.DataFrame\n"
      ]
     },
     "metadata": {},
     "output_type": "display_data"
    }
   ],
   "source": [
    "// Rename the header\n",
    "def renameCols(df: DataFrame): DataFrame = {\n",
    "    val cols = Seq(\"class\", \"X\", \"Y\")\n",
    "    return df.toDF(cols: _*)\n",
    "}"
   ]
  },
  {
   "cell_type": "code",
   "execution_count": 3,
   "metadata": {},
   "outputs": [
    {
     "data": {
      "text/plain": [
       "tr = [_c0: string, _c1: string ... 1 more field]\n",
       "te = [_c0: string, _c1: string ... 1 more field]\n"
      ]
     },
     "metadata": {},
     "output_type": "display_data"
    },
    {
     "data": {
      "text/plain": [
       "[_c0: string, _c1: string ... 1 more field]"
      ]
     },
     "execution_count": 3,
     "metadata": {},
     "output_type": "execute_result"
    }
   ],
   "source": [
    "// Read the files\n",
    "val tr = spark.read.format(\"csv\")\n",
    "         .option(\"header\", \"false\")\n",
    "         .option(\"mode\", \"DROPMALFORMED\")\n",
    "         .load(dataLoc+\"moons_train.csv\")\n",
    "\n",
    "val te = spark.read.format(\"csv\")\n",
    "         .option(\"header\", \"false\")\n",
    "         .option(\"mode\", \"DROPMALFORMED\")\n",
    "         .load(dataLoc+\"moons_test.csv\")"
   ]
  },
  {
   "cell_type": "code",
   "execution_count": 4,
   "metadata": {},
   "outputs": [
    {
     "name": "stdout",
     "output_type": "stream",
     "text": [
      "Train has 4000 rows\n",
      "Test has 1000 rows\n",
      "Merged has 5000 rows"
     ]
    },
    {
     "data": {
      "text/plain": [
       "newTr = [class: string, X: string ... 1 more field]\n",
       "newTe = [class: string, X: string ... 1 more field]\n",
       "merged = [class: string, X: string ... 1 more field]\n"
      ]
     },
     "metadata": {},
     "output_type": "display_data"
    },
    {
     "data": {
      "text/plain": [
       "[class: string, X: string ... 1 more field]"
      ]
     },
     "execution_count": 4,
     "metadata": {},
     "output_type": "execute_result"
    }
   ],
   "source": [
    "// Rename the headers\n",
    "val newTr = renameCols(tr)\n",
    "val newTe = renameCols(te)\n",
    "\n",
    "// Merge them\n",
    "val merged = newTr.union(newTe)\n",
    "\n",
    "println(\"Train has \"+tr.count+\" rows\")\n",
    "println(\"Test has \"+te.count+\" rows\")\n",
    "print(\"Merged has \"+merged.count+\" rows\")\n",
    "\n",
    "assert((tr.count+te.count)==merged.count)"
   ]
  },
  {
   "cell_type": "code",
   "execution_count": 6,
   "metadata": {},
   "outputs": [],
   "source": [
    "merged.write.option(\"header\", \"true\").csv(dataLoc+\"moons\")"
   ]
  }
 ],
 "metadata": {
  "kernelspec": {
   "display_name": "Apache Toree - Scala",
   "language": "scala",
   "name": "apache_toree_scala"
  },
  "language_info": {
   "codemirror_mode": "text/x-scala",
   "file_extension": ".scala",
   "mimetype": "text/x-scala",
   "name": "scala",
   "pygments_lexer": "scala",
   "version": "2.11.12"
  }
 },
 "nbformat": 4,
 "nbformat_minor": 2
}
