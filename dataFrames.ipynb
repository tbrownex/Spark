{
 "cells": [
  {
   "cell_type": "code",
   "execution_count": 1,
   "metadata": {},
   "outputs": [],
   "source": [
    "import org.apache.spark.sql.functions._"
   ]
  },
  {
   "cell_type": "code",
   "execution_count": 2,
   "metadata": {},
   "outputs": [
    {
     "name": "stdout",
     "output_type": "stream",
     "text": [
      "/home/ubuntu/data/Egypt.csv"
     ]
    },
    {
     "data": {
      "text/plain": [
       "LOC = /home/ubuntu/data/\n",
       "FILE = Egypt.csv\n"
      ]
     },
     "metadata": {},
     "output_type": "display_data"
    },
    {
     "data": {
      "text/plain": [
       "Egypt.csv"
      ]
     },
     "execution_count": 2,
     "metadata": {},
     "output_type": "execute_result"
    }
   ],
   "source": [
    "val LOC = \"/home/ubuntu/data/\"\n",
    "val FILE = \"Egypt.csv\"\n",
    "\n",
    "print(LOC+FILE)"
   ]
  },
  {
   "cell_type": "code",
   "execution_count": 3,
   "metadata": {},
   "outputs": [
    {
     "data": {
      "text/plain": [
       "ds = [_c0: string, _c1: string ... 4 more fields]\n"
      ]
     },
     "metadata": {},
     "output_type": "display_data"
    },
    {
     "data": {
      "text/plain": [
       "[_c0: string, _c1: string ... 4 more fields]"
      ]
     },
     "execution_count": 3,
     "metadata": {},
     "output_type": "execute_result"
    }
   ],
   "source": [
    "// Read the file\n",
    "val ds = spark.read.format(\"csv\")\n",
    "         .option(\"header\", \"false\")   // Keep the headers: \"true\" skips them\n",
    "         .option(\"mode\", \"DROPMALFORMED\")\n",
    "         .load(LOC+FILE)"
   ]
  },
  {
   "cell_type": "code",
   "execution_count": 3,
   "metadata": {},
   "outputs": [
    {
     "name": "stdout",
     "output_type": "stream",
     "text": [
      "class org.apache.spark.sql.Dataset"
     ]
    }
   ],
   "source": [
    "print(ds.getClass)    // get object type"
   ]
  },
  {
   "cell_type": "code",
   "execution_count": 4,
   "metadata": {},
   "outputs": [
    {
     "name": "stdout",
     "output_type": "stream",
     "text": [
      "+-----+--------------------+------------+--------------------+----------+----------------+\n",
      "|  _c0|                 _c1|         _c2|                 _c3|       _c4|             _c5|\n",
      "+-----+--------------------+------------+--------------------+----------+----------------+\n",
      "|Egypt|All Cirrus Issuin...|GG0000000044|Processed-Acquiri...|2015-01-01|284533.954567226|\n",
      "|Egypt|All Cirrus Issuin...|GG0000000044|Processed-Acquiri...|2015-02-01|263907.051428571|\n",
      "|Egypt|All Cirrus Issuin...|GG0000000044|Processed-Acquiri...|2015-03-01|351187.960412742|\n",
      "|Egypt|All Cirrus Issuin...|GG0000000044|Processed-Acquiri...|2015-04-01|308846.532766667|\n",
      "|Egypt|All Cirrus Issuin...|GG0000000044|Processed-Acquiri...|2015-05-01| 258098.75879821|\n",
      "+-----+--------------------+------------+--------------------+----------+----------------+\n",
      "only showing top 5 rows\n",
      "\n"
     ]
    }
   ],
   "source": [
    "ds.show(5)      // equivalent to \"head\""
   ]
  },
  {
   "cell_type": "code",
   "execution_count": 5,
   "metadata": {},
   "outputs": [
    {
     "name": "stdout",
     "output_type": "stream",
     "text": [
      "[Egypt,All Cirrus Issuing Programs,GG0000000044,Processed-Acquiring Domestic Cash Volume,2015-01-01,284533.954567226]"
     ]
    }
   ],
   "source": [
    "print(ds.first())      // Get the first row"
   ]
  },
  {
   "cell_type": "code",
   "execution_count": 6,
   "metadata": {},
   "outputs": [
    {
     "data": {
      "text/plain": [
       "newNames = List(country, product, account, type, month, amount)\n",
       "ds2 = [country: string, product: string ... 4 more fields]\n"
      ]
     },
     "metadata": {},
     "output_type": "display_data"
    },
    {
     "data": {
      "text/plain": [
       "[country: string, product: string ... 4 more fields]"
      ]
     },
     "execution_count": 6,
     "metadata": {},
     "output_type": "execute_result"
    }
   ],
   "source": [
    "// rename ALL columns\n",
    "val newNames = Seq(\"country\", \"product\", \"account\",\"type\", \"month\", \"amount\")\n",
    "val ds2 = ds.toDF(newNames: _*)"
   ]
  },
  {
   "cell_type": "code",
   "execution_count": 19,
   "metadata": {},
   "outputs": [
    {
     "name": "stdout",
     "output_type": "stream",
     "text": [
      "root\n",
      " |-- country: string (nullable = true)\n",
      " |-- product: string (nullable = true)\n",
      " |-- account: string (nullable = true)\n",
      " |-- type: string (nullable = true)\n",
      " |-- month: string (nullable = true)\n",
      " |-- amount: string (nullable = true)\n",
      "\n"
     ]
    }
   ],
   "source": [
    "ds2.printSchema        // column names and types"
   ]
  },
  {
   "cell_type": "code",
   "execution_count": 20,
   "metadata": {},
   "outputs": [
    {
     "name": "stdout",
     "output_type": "stream",
     "text": [
      "+-------+-----+--------------------+------------+--------------------+----------+--------------------+\n",
      "|summary|  _c0|                 _c1|         _c2|                 _c3|       _c4|                 _c5|\n",
      "+-------+-----+--------------------+------------+--------------------+----------+--------------------+\n",
      "|  count|45901|               45901|       45901|               45901|     45901|               45901|\n",
      "|   mean| null|                null|        null|                null|      null|   5308318.084986666|\n",
      "| stddev| null|                null|        null|                null|      null|2.2177794594817642E7|\n",
      "|    min|Egypt|All Cirrus Issuin...|GG0000000044|Processed-Acquiri...|2015-01-01|-0.00000000069849...|\n",
      "|    max|Egypt|Small Business Pr...|GG0000008024|Processed-Issuing...|2018-05-01|        9999.9780935|\n",
      "+-------+-----+--------------------+------------+--------------------+----------+--------------------+\n",
      "\n"
     ]
    }
   ],
   "source": [
    "ds.describe().show()   // stats on the columns"
   ]
  },
  {
   "cell_type": "code",
   "execution_count": 38,
   "metadata": {},
   "outputs": [
    {
     "name": "stdout",
     "output_type": "stream",
     "text": [
      "file has 6 columns\n",
      "file has 45901 rows\n",
      "file has 45,901 rows"
     ]
    },
    {
     "data": {
      "text/plain": [
       "colCount = 6\n",
       "rowCount = 45901\n",
       "formatter = java.text.DecimalFormat@674dc\n"
      ]
     },
     "metadata": {},
     "output_type": "display_data"
    },
    {
     "data": {
      "text/plain": [
       "java.text.DecimalFormat@674dc"
      ]
     },
     "execution_count": 38,
     "metadata": {},
     "output_type": "execute_result"
    }
   ],
   "source": [
    "val colCount = ds.columns.length             // get number of columns\n",
    "println(\"file has \" + colCount + \" columns\")\n",
    "\n",
    "val rowCount = ds.count                          // get number of rows\n",
    "println(\"file has \" + rowCount + \" rows\")\n",
    "\n",
    "val formatter = java.text.NumberFormat.getIntegerInstance        // row count with comma\n",
    "print(\"file has \" +  formatter.format(ds.count())+\" rows\")"
   ]
  },
  {
   "cell_type": "code",
   "execution_count": 42,
   "metadata": {},
   "outputs": [
    {
     "name": "stdout",
     "output_type": "stream",
     "text": [
      "_c0\n",
      "_c1\n",
      "_c2\n",
      "_c3\n",
      "_c4\n",
      "_c5\n"
     ]
    }
   ],
   "source": [
    "for(a <- ds.columns) println(a)        // print Column names"
   ]
  },
  {
   "cell_type": "code",
   "execution_count": 44,
   "metadata": {},
   "outputs": [
    {
     "name": "stdout",
     "output_type": "stream",
     "text": [
      "[Egypt,All Cirrus Issuing Programs,GG0000000044,Processed-Acquiring Domestic Cash Volume,2015-01-01,284533.954567226]\n",
      "[Egypt,All Cirrus Issuing Programs,GG0000000044,Processed-Acquiring Domestic Cash Volume,2015-02-01,263907.051428571]\n",
      "[Egypt,All Cirrus Issuing Programs,GG0000000044,Processed-Acquiring Domestic Cash Volume,2015-03-01,351187.960412742]\n",
      "[Egypt,All Cirrus Issuing Programs,GG0000000044,Processed-Acquiring Domestic Cash Volume,2015-04-01,308846.532766667]\n"
     ]
    },
    {
     "data": {
      "text/plain": [
       "first4 = Array([Egypt,All Cirrus Issuing Programs,GG0000000044,Processed-Acquiring Domestic Cash Volume,2015-01-01,284533.954567226], [Egypt,All Cirrus Issuing Programs,GG0000000044,Processed-Acquiring Domestic Cash Volume,2015-02-01,263907.051428571], [Egypt,All Cirrus Issuing Programs,GG0000000044,Processed-Acquiring Domestic Cash Volume,2015-03-01,351187.960412742], [Egypt,All Cirrus Issuing Programs,GG0000000044,Processed-Acquiring Domestic Cash Volume,2015-04-01,308846.532766667])\n"
      ]
     },
     "metadata": {},
     "output_type": "display_data"
    },
    {
     "data": {
      "text/plain": [
       "Array([Egypt,All Cirrus Issuing Programs,GG0000000044,Processed-Acquiring Domestic Cash Volume,2015-01-01,284533.954567226], [Egypt,All Cirrus Issuing Programs,GG0000000044,Processed-Acquiring Domestic Cash Volume,2015-02-01,263907.051428571], [Egypt,All Cirrus Issuing Programs,GG0000000044,Processed-Acquiring Domestic Cash Volume,2015-03-01,351187.960412742], [Egypt,All Cirrus Issuing Programs,GG0000000044,Processed-Acquiring Domestic Cash Volume,2015-04-01,308846.532766667])"
      ]
     },
     "execution_count": 44,
     "metadata": {},
     "output_type": "execute_result"
    }
   ],
   "source": [
    "// Iterate over some rows\n",
    "val first4 = ds.take(4)\n",
    "for (x <- first4) println(x)"
   ]
  },
  {
   "cell_type": "code",
   "execution_count": 45,
   "metadata": {},
   "outputs": [
    {
     "name": "stdout",
     "output_type": "stream",
     "text": [
      "root\n",
      " |-- country: string (nullable = true)\n",
      " |-- product: string (nullable = true)\n",
      " |-- customer: string (nullable = true)\n",
      " |-- type: string (nullable = true)\n",
      " |-- month: string (nullable = true)\n",
      " |-- amount: string (nullable = true)\n",
      "\n"
     ]
    },
    {
     "data": {
      "text/plain": [
       "ds3 = [country: string, product: string ... 4 more fields]\n"
      ]
     },
     "metadata": {},
     "output_type": "display_data"
    },
    {
     "data": {
      "text/plain": [
       "[country: string, product: string ... 4 more fields]"
      ]
     },
     "execution_count": 45,
     "metadata": {},
     "output_type": "execute_result"
    }
   ],
   "source": [
    "val ds3 = ds2.withColumnRenamed(\"account\", \"customer\")   // rename a SINGLE column\n",
    "ds3.printSchema"
   ]
  },
  {
   "cell_type": "code",
   "execution_count": 46,
   "metadata": {},
   "outputs": [
    {
     "name": "stdout",
     "output_type": "stream",
     "text": [
      "+-------+--------------------+------------+--------------------+----------+----------------+---+\n",
      "|country|             product|    customer|                type|     month|          amount|new|\n",
      "+-------+--------------------+------------+--------------------+----------+----------------+---+\n",
      "|  Egypt|All Cirrus Issuin...|GG0000000044|Processed-Acquiri...|2015-01-01|284533.954567226| 10|\n",
      "|  Egypt|All Cirrus Issuin...|GG0000000044|Processed-Acquiri...|2015-02-01|263907.051428571| 10|\n",
      "|  Egypt|All Cirrus Issuin...|GG0000000044|Processed-Acquiri...|2015-03-01|351187.960412742| 10|\n",
      "|  Egypt|All Cirrus Issuin...|GG0000000044|Processed-Acquiri...|2015-04-01|308846.532766667| 10|\n",
      "|  Egypt|All Cirrus Issuin...|GG0000000044|Processed-Acquiri...|2015-05-01| 258098.75879821| 10|\n",
      "+-------+--------------------+------------+--------------------+----------+----------------+---+\n",
      "only showing top 5 rows\n",
      "\n"
     ]
    },
    {
     "data": {
      "text/plain": [
       "newDF = [country: string, product: string ... 5 more fields]\n"
      ]
     },
     "metadata": {},
     "output_type": "display_data"
    },
    {
     "data": {
      "text/plain": [
       "[country: string, product: string ... 5 more fields]"
      ]
     },
     "execution_count": 46,
     "metadata": {},
     "output_type": "execute_result"
    }
   ],
   "source": [
    "// Add a column\n",
    "import org.apache.spark.sql.functions.lit    // needed if you're adding the same value for each row\n",
    "val newDF = ds3.withColumn(\"new\", lit(10))    // adding value 10 to all records\n",
    "\n",
    "newDF.show(5)"
   ]
  },
  {
   "cell_type": "code",
   "execution_count": 47,
   "metadata": {},
   "outputs": [
    {
     "name": "stdout",
     "output_type": "stream",
     "text": [
      "Removed 23,877 rows. 22,024 remaining\n"
     ]
    },
    {
     "data": {
      "text/plain": [
       "before = 45901\n",
       "filtered = [country: string, product: string ... 5 more fields]\n",
       "after = 22024\n"
      ]
     },
     "metadata": {},
     "output_type": "display_data"
    },
    {
     "data": {
      "text/plain": [
       "22024"
      ]
     },
     "execution_count": 47,
     "metadata": {},
     "output_type": "execute_result"
    }
   ],
   "source": [
    "// Filter a numeric\n",
    "val before = newDF.count()\n",
    "val filtered = newDF.filter($\"amount\" > 500000.0)\n",
    "val after = filtered.count()\n",
    "\n",
    "println(\"Removed \" + formatter.format( before-after) + \" rows. \" + formatter.format(after) +\" remaining\")"
   ]
  },
  {
   "cell_type": "markdown",
   "metadata": {},
   "source": [
    "### Nulls"
   ]
  },
  {
   "cell_type": "code",
   "execution_count": 54,
   "metadata": {},
   "outputs": [
    {
     "name": "stdout",
     "output_type": "stream",
     "text": [
      "+-------+-------+-------+----+-----+------+\n",
      "|country|product|account|type|month|amount|\n",
      "+-------+-------+-------+----+-----+------+\n",
      "+-------+-------+-------+----+-----+------+\n",
      "\n"
     ]
    }
   ],
   "source": [
    "ds2.filter(\"amount is null\").show      // check if a column has Nulls"
   ]
  },
  {
   "cell_type": "code",
   "execution_count": 59,
   "metadata": {},
   "outputs": [
    {
     "name": "stdout",
     "output_type": "stream",
     "text": [
      "0\n"
     ]
    }
   ],
   "source": [
    "println(ds2.filter($\"amount\".isNull).count)    // count the number of nulls"
   ]
  },
  {
   "cell_type": "code",
   "execution_count": 58,
   "metadata": {},
   "outputs": [
    {
     "name": "stdout",
     "output_type": "stream",
     "text": [
      "45901"
     ]
    }
   ],
   "source": [
    "print(ds2.filter(\"amount is not null\").count)    // count the number of nulls"
   ]
  },
  {
   "cell_type": "code",
   "execution_count": 61,
   "metadata": {},
   "outputs": [
    {
     "data": {
      "text/plain": [
       "defined class MyRow\n",
       "data = List(MyRow(1.1,bat), MyRow(2.2,cat), MyRow(NaN,dog))\n"
      ]
     },
     "metadata": {},
     "output_type": "display_data"
    },
    {
     "data": {
      "text/plain": [
       "List(MyRow(1.1,bat), MyRow(2.2,cat), MyRow(NaN,dog))"
      ]
     },
     "execution_count": 61,
     "metadata": {},
     "output_type": "execute_result"
    }
   ],
   "source": [
    "case class MyRow(x: Double, y:String)     // creating data\n",
    "val data = Seq(MyRow(1.1, \"bat\"),MyRow(2.2, \"cat\"),MyRow(Double.NaN, \"dog\"))"
   ]
  },
  {
   "cell_type": "code",
   "execution_count": 62,
   "metadata": {},
   "outputs": [
    {
     "name": "stdout",
     "output_type": "stream",
     "text": [
      "+---+---+\n",
      "| id|typ|\n",
      "+---+---+\n",
      "|1.1|bat|\n",
      "|2.2|cat|\n",
      "|NaN|dog|\n",
      "+---+---+\n",
      "\n"
     ]
    },
    {
     "data": {
      "text/plain": [
       "df = [id: double, typ: string]\n"
      ]
     },
     "metadata": {},
     "output_type": "display_data"
    },
    {
     "data": {
      "text/plain": [
       "[id: double, typ: string]"
      ]
     },
     "execution_count": 62,
     "metadata": {},
     "output_type": "execute_result"
    }
   ],
   "source": [
    "val df = data.toDF(\"id\", \"typ\")\n",
    "df.show"
   ]
  },
  {
   "cell_type": "code",
   "execution_count": 63,
   "metadata": {},
   "outputs": [
    {
     "name": "stdout",
     "output_type": "stream",
     "text": [
      "+----+---+\n",
      "|  id|typ|\n",
      "+----+---+\n",
      "| 1.1|bat|\n",
      "| 2.2|cat|\n",
      "|18.0|dog|\n",
      "+----+---+\n",
      "\n"
     ]
    },
    {
     "data": {
      "text/plain": [
       "t = [id: double, typ: string]\n"
      ]
     },
     "metadata": {},
     "output_type": "display_data"
    },
    {
     "data": {
      "text/plain": [
       "[id: double, typ: string]"
      ]
     },
     "execution_count": 63,
     "metadata": {},
     "output_type": "execute_result"
    }
   ],
   "source": [
    "// replaces Null with a static value\n",
    "val t = df.na.fill(18)\n",
    "t.show"
   ]
  },
  {
   "cell_type": "code",
   "execution_count": 179,
   "metadata": {},
   "outputs": [
    {
     "name": "stdout",
     "output_type": "stream",
     "text": [
      "+---+---+\n",
      "| id|typ|\n",
      "+---+---+\n",
      "|1.1|bat|\n",
      "|2.2|cat|\n",
      "+---+---+\n",
      "\n"
     ]
    },
    {
     "data": {
      "text/plain": [
       "t = [id: double, typ: string]\n"
      ]
     },
     "metadata": {},
     "output_type": "display_data"
    },
    {
     "data": {
      "text/plain": [
       "[id: double, typ: string]"
      ]
     },
     "execution_count": 179,
     "metadata": {},
     "output_type": "execute_result"
    }
   ],
   "source": [
    "// equivalent to \"dropna\"\n",
    "val t = df.na.drop()\n",
    "t.show"
   ]
  },
  {
   "cell_type": "code",
   "execution_count": 5,
   "metadata": {},
   "outputs": [
    {
     "data": {
      "text/plain": [
       "col = Array(id)\n"
      ]
     },
     "metadata": {},
     "output_type": "display_data"
    },
    {
     "data": {
      "text/plain": [
       "Array(id)"
      ]
     },
     "execution_count": 5,
     "metadata": {},
     "output_type": "execute_result"
    }
   ],
   "source": [
    "val col = Array(\"id\")"
   ]
  },
  {
   "cell_type": "code",
   "execution_count": 6,
   "metadata": {},
   "outputs": [
    {
     "data": {
      "text/plain": [
       "Name: Syntax Error.\n",
       "Message: \n",
       "StackTrace: "
      ]
     },
     "execution_count": 6,
     "metadata": {},
     "output_type": "execute_result"
    }
   ],
   "source": [
    "import org.apache.spark.ml.feature.Imputer\n",
    "\n",
    "val imputer = new Imputer()\n",
    "  .setInputCols(col)\n",
    "  .setOutputCols(col.map(c => s\"${c}_imputed\")\n",
    "  .setStrategy(\"mean\")"
   ]
  },
  {
   "cell_type": "code",
   "execution_count": 183,
   "metadata": {},
   "outputs": [
    {
     "data": {
      "text/plain": [
       "Name: java.lang.IllegalArgumentException\n",
       "Message: requirement failed: Column typ must be of type equal to one of the following types: [double, float] but was actually of type string.\n",
       "StackTrace:   at scala.Predef$.require(Predef.scala:224)\n",
       "  at org.apache.spark.ml.util.SchemaUtils$.checkColumnTypes(SchemaUtils.scala:60)\n",
       "  at org.apache.spark.ml.feature.ImputerParams$$anonfun$2.apply(Imputer.scala:76)\n",
       "  at org.apache.spark.ml.feature.ImputerParams$$anonfun$2.apply(Imputer.scala:74)\n",
       "  at scala.collection.TraversableLike$$anonfun$map$1.apply(TraversableLike.scala:234)\n",
       "  at scala.collection.TraversableLike$$anonfun$map$1.apply(TraversableLike.scala:234)\n",
       "  at scala.collection.IndexedSeqOptimized$class.foreach(IndexedSeqOptimized.scala:33)\n",
       "  at scala.collection.mutable.ArrayOps$ofRef.foreach(ArrayOps.scala:186)\n",
       "  at scala.collection.TraversableLike$class.map(TraversableLike.scala:234)\n",
       "  at scala.collection.mutable.ArrayOps$ofRef.map(ArrayOps.scala:186)\n",
       "  at org.apache.spark.ml.feature.ImputerParams$class.validateAndTransformSchema(Imputer.scala:74)\n",
       "  at org.apache.spark.ml.feature.Imputer.validateAndTransformSchema(Imputer.scala:96)\n",
       "  at org.apache.spark.ml.feature.Imputer.transformSchema(Imputer.scala:175)\n",
       "  at org.apache.spark.ml.PipelineStage.transformSchema(Pipeline.scala:74)\n",
       "  at org.apache.spark.ml.feature.Imputer.fit(Imputer.scala:124)"
      ]
     },
     "execution_count": 183,
     "metadata": {},
     "output_type": "execute_result"
    }
   ],
   "source": [
    "imputer.fit(df).transform(df)"
   ]
  },
  {
   "cell_type": "markdown",
   "metadata": {},
   "source": [
    "### GroupBy"
   ]
  },
  {
   "cell_type": "code",
   "execution_count": 132,
   "metadata": {},
   "outputs": [
    {
     "data": {
      "text/plain": [
       "Array(country, product, account, type, month, amount)"
      ]
     },
     "execution_count": 132,
     "metadata": {},
     "output_type": "execute_result"
    }
   ],
   "source": [
    "ds2.columns"
   ]
  },
  {
   "cell_type": "code",
   "execution_count": 133,
   "metadata": {},
   "outputs": [
    {
     "data": {
      "text/plain": [
       "g = RelationalGroupedDataset: [grouping expressions: [product: string], value: [country: string, product: string ... 4 more fields], type: GroupBy]\n"
      ]
     },
     "metadata": {},
     "output_type": "display_data"
    },
    {
     "data": {
      "text/plain": [
       "RelationalGroupedDataset: [grouping expressions: [product: string], value: [country: string, product: string ... 4 more fields], type: GroupBy]"
      ]
     },
     "execution_count": 133,
     "metadata": {},
     "output_type": "execute_result"
    }
   ],
   "source": [
    "val g = ds2.groupBy(\"product\")"
   ]
  },
  {
   "cell_type": "code",
   "execution_count": 203,
   "metadata": {},
   "outputs": [
    {
     "name": "stdout",
     "output_type": "stream",
     "text": [
      "+--------------------+-----+\n",
      "|             product|count|\n",
      "+--------------------+-----+\n",
      "|MasterCard World ...|  634|\n",
      "|MasterCard World ...|  813|\n",
      "|MasterCard Debit ...|  899|\n",
      "|MasterCard Gold D...|  917|\n",
      "|MasterCard Commer...|  968|\n",
      "+--------------------+-----+\n",
      "only showing top 5 rows\n",
      "\n"
     ]
    }
   ],
   "source": [
    "g.count.orderBy(\"count\").show(5)    // sort the groups by Count"
   ]
  },
  {
   "cell_type": "code",
   "execution_count": 202,
   "metadata": {},
   "outputs": [
    {
     "name": "stdout",
     "output_type": "stream",
     "text": [
      "+--------------------+-----+\n",
      "|             product|count|\n",
      "+--------------------+-----+\n",
      "|MasterCard Standa...| 5357|\n",
      "|Mastercard Platin...| 4700|\n",
      "|MasterCard Gold C...| 4617|\n",
      "|MasterCard Standa...| 4281|\n",
      "|         All Prepaid| 3969|\n",
      "+--------------------+-----+\n",
      "only showing top 5 rows\n",
      "\n"
     ]
    }
   ],
   "source": [
    "g.count().orderBy($\"count\".desc).show(5)    // Count descending"
   ]
  },
  {
   "cell_type": "code",
   "execution_count": 201,
   "metadata": {},
   "outputs": [
    {
     "name": "stdout",
     "output_type": "stream",
     "text": [
      "+--------------------+-------------+\n",
      "|             product|  min(amount)|\n",
      "+--------------------+-------------+\n",
      "|MasterCard World ...|-50.145084516|\n",
      "|Maestro Consumer ...|            0|\n",
      "|MasterCard Titani...|   0.74104271|\n",
      "|Small Business Pr...|            0|\n",
      "|         All Prepaid|    10.022464|\n",
      "+--------------------+-------------+\n",
      "only showing top 5 rows\n",
      "\n"
     ]
    }
   ],
   "source": [
    "g.agg(min(\"amount\")).show(5)    // get the min for each group"
   ]
  },
  {
   "cell_type": "markdown",
   "metadata": {},
   "source": [
    "### Working with Columns"
   ]
  },
  {
   "cell_type": "code",
   "execution_count": 209,
   "metadata": {},
   "outputs": [
    {
     "data": {
      "text/plain": [
       "prod = product\n"
      ]
     },
     "metadata": {},
     "output_type": "display_data"
    },
    {
     "data": {
      "text/plain": [
       "product"
      ]
     },
     "execution_count": 209,
     "metadata": {},
     "output_type": "execute_result"
    }
   ],
   "source": [
    "val prod = ds2(\"product\")"
   ]
  },
  {
   "cell_type": "code",
   "execution_count": 221,
   "metadata": {},
   "outputs": [
    {
     "name": "stdout",
     "output_type": "stream",
     "text": [
      "+--------------------+\n",
      "|             product|\n",
      "+--------------------+\n",
      "|All Cirrus Issuin...|\n",
      "|All Cirrus Issuin...|\n",
      "|All Cirrus Issuin...|\n",
      "|All Cirrus Issuin...|\n",
      "|All Cirrus Issuin...|\n",
      "+--------------------+\n",
      "only showing top 5 rows\n",
      "\n"
     ]
    }
   ],
   "source": [
    "ds2.select(\"product\").show(5)    // view a column"
   ]
  },
  {
   "cell_type": "code",
   "execution_count": 233,
   "metadata": {},
   "outputs": [
    {
     "name": "stdout",
     "output_type": "stream",
     "text": [
      "+-------+\n",
      "|country|\n",
      "+-------+\n",
      "|  Egypt|\n",
      "+-------+\n",
      "\n"
     ]
    }
   ],
   "source": [
    "ds2.select(ds2(\"country\")).distinct.show    // Get unique values"
   ]
  },
  {
   "cell_type": "code",
   "execution_count": 223,
   "metadata": {},
   "outputs": [
    {
     "name": "stdout",
     "output_type": "stream",
     "text": [
      "+---------+\n",
      "|   amount|\n",
      "+---------+\n",
      "|284533.97|\n",
      "|263907.06|\n",
      "|351187.97|\n",
      "|308846.53|\n",
      "|258098.77|\n",
      "+---------+\n",
      "only showing top 5 rows\n",
      "\n"
     ]
    }
   ],
   "source": [
    "ds2.select(ds2(\"amount\").cast(\"float\")).show(5)    // cast column type"
   ]
  },
  {
   "cell_type": "code",
   "execution_count": 226,
   "metadata": {},
   "outputs": [
    {
     "name": "stdout",
     "output_type": "stream",
     "text": [
      "+-------+--------------------+------------+--------------------+----------+--------------+\n",
      "|country|             product|     account|                type|     month|        amount|\n",
      "+-------+--------------------+------------+--------------------+----------+--------------+\n",
      "|  Egypt|Small Business Pr...|GG0000006914|Processed-Acquiri...|2016-09-01|  9999.9780935|\n",
      "|  Egypt|MasterCard Titani...|GG0000005125|Processed-Gross D...|2016-06-01|  9999.9780935|\n",
      "|  Egypt|Small Business Pr...|GG0000001090|Processed-Gross D...|2016-10-01|9999.945399403|\n",
      "|  Egypt|MasterCard World ...|GG0000004127|Processed-Acquiri...|2017-05-01|9999.853608613|\n",
      "|  Egypt|MasterCard World ...|GG0000004127|Processed-Acquiri...|2018-01-01|9999.491111226|\n",
      "+-------+--------------------+------------+--------------------+----------+--------------+\n",
      "only showing top 5 rows\n",
      "\n"
     ]
    }
   ],
   "source": [
    "ds2.orderBy($\"amount\".desc).show(5)   // sort dataset by Column"
   ]
  },
  {
   "cell_type": "code",
   "execution_count": 19,
   "metadata": {},
   "outputs": [
    {
     "data": {
      "text/plain": [
       "23676"
      ]
     },
     "execution_count": 19,
     "metadata": {},
     "output_type": "execute_result"
    }
   ],
   "source": [
    "df.reduce {\n",
    "    (x, y) =>\n",
    "    if (x.getAs[Int](\"timestamp\") > y.getAs[Int](\"timestamp\")) x else y\n",
    "}"
   ]
  },
  {
   "cell_type": "code",
   "execution_count": null,
   "metadata": {},
   "outputs": [],
   "source": []
  }
 ],
 "metadata": {
  "kernelspec": {
   "display_name": "Apache Toree - Scala",
   "language": "scala",
   "name": "apache_toree_scala"
  },
  "language_info": {
   "codemirror_mode": "text/x-scala",
   "file_extension": ".scala",
   "mimetype": "text/x-scala",
   "name": "scala",
   "pygments_lexer": "scala",
   "version": "2.11.12"
  }
 },
 "nbformat": 4,
 "nbformat_minor": 2
}
